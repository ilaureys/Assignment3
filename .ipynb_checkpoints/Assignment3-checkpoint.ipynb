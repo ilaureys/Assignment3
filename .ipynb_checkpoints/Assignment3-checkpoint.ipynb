{
 "cells": [
  {
   "cell_type": "markdown",
   "metadata": {},
   "source": [
    "## Assignment 3\n",
    "# Twitter Trend Decay - An analysis of the declining trend of #EgyptAir"
   ]
  },
  {
   "cell_type": "markdown",
   "metadata": {},
   "source": [
    "### Nina Bartmann (517260)    \n",
    "### Joelle Duff (361872)    \n",
    "### Irene Laureijs (508695)  "
   ]
  },
  {
   "cell_type": "markdown",
   "metadata": {},
   "source": [
    "![alt text](https://marketing-insider.eu/wp-content/uploads/2015/08/Using-Social-Media-in-Marketing.jpg)"
   ]
  },
  {
   "cell_type": "markdown",
   "metadata": {},
   "source": [
    "# RESEARCH QUESTION\n",
    "<br> How long does it take before the Twitter trend in #EgyptAir ceases to exist?\n",
    "\n",
    "# MOTIVATION & INTRODUCTION\n",
    "<br> Social Media – a phenomenon of the 21st century. To some it is a red flag, but to most it represents an opportunity to engage in communication and to exchange information. Social media platforms include the social network [Facebook](https://en.wikipedia.org/wiki/Facebook), the video-sharing website [YouTube](https://www.youtube.com), the networking service [LinkedIn](https://en.wikipedia.org/wiki/LinkedIn), the mobile photo-sharing service [Instagram](https://www.instagram.com) or the microblogging service Twitter. Social media enables participants of its services or networks to simultaneously be producer, distributor and consumer of information. This means that users of social media engage in a flow of information on a scale and at a speed that were previously not possible. \n",
    "\n",
    "Within seconds of their occurrence, many news events become extremely popular among social media participants. This is especially visible in relation to disaster news, such as the terror attacks in Paris and [Brussels](http://www.bbc.com/news/blogs-trending-35872170). The intense media coverage right after the attacks captured our interest. People around the world shared their views and expressed solidarity with the victims and their families. \n",
    "\n",
    "Given the constant flow of information, social media participants are likely to exhibit a limited attention span towards a single topic and are more prone to the symptom of “Quick News”. Hence, we are interested as to how quickly trends in social media can disappear again.\n",
    "\n",
    "We will investigate and predict how long it will take for the trend in the Twitter hashtag #EgyptAir to disappear. The hashtag refers to an Egypt Air flight, which was hijacked on March 29 2016.\n",
    "\n",
    "## What is Twitter? ![alt text](http://www.cambridgema.gov/images/twitter-icon.png)\n",
    "<br> Twitter is an online microblogging service, which enables users to send and read short 140-character messages called “tweets”. Each user chooses to follow certain other users and their “tweets” about news, personal information or links to content such as images, video or articles. Hastags “#” are used to group posts together by a certain topic. “As of May 2015, Twitter has more than 500 million users, out of which more than 332 million are active.” (see: <https://en.wikipedia.org/wiki/Twitter>)"
   ]
  },
  {
   "cell_type": "markdown",
   "metadata": {
    "collapsed": true
   },
   "source": [
    "## METHOD\n",
    "\n",
    "*Twitter data mining and resulting data points* \n",
    "\n",
    "For this assignment we were able to mine from Twitter at various hours on Tuesday 29 March 2016, Friday 1 April 2016 and Tuesday 4 April 2016. We found the hashtag #EgyptAir to be trending that day, so we are going to analyze the frequency of mentioning this hashtag (and similar ones) at multiple time periods. Furthermore, we are going to predict the decay in the frequency of the hashtag #EgyptAir by employing a [**linear**](#MODELS) as well as an [**exponential**](#MODELS) decay model."
   ]
  },
  {
   "cell_type": "markdown",
   "metadata": {},
   "source": [
    "## PRELIMINARY ANSWERS \n",
    "Our [conclusion](#CONCLUSION) is that the hashtag #EgyptAir will cease to exist on different dates depending on the model employed. Given that an exponential decay model fits the data best, the answer to our research question is that the hashtag #EgyptAir will either cease to exist on April 2 at 11.00 or on April 3 at 20.00. "
   ]
  },
  {
   "cell_type": "markdown",
   "metadata": {},
   "source": [
    "# IMPORTING DATA\n",
    "The following steps were taken to get the data we needed from Twitter:"
   ]
  },
  {
   "cell_type": "markdown",
   "metadata": {},
   "source": [
    "**Step 1**: Import the real-time data from Twitter"
   ]
  },
  {
   "cell_type": "code",
   "execution_count": null,
   "metadata": {
    "collapsed": true
   },
   "outputs": [],
   "source": [
    "# This command tells python to import data from Twitter, using the package twitter and our personal token codes. \n",
    "import twitter\n",
    "\n",
    "consumer_key = 'qwciG2GP5XcIu66v2xjW1HMzX'\n",
    "consumer_secret = '8Bzy3ve28bErN3YTvCMdeiKSJsTF49Vo6I0SZIUoKorbMCUzsx'\n",
    "oauth_token = '2456869753-S4bVmPGl7rhunfPMClCCCHpKgBUQFUbdU4fxrBP'\n",
    "oauth_token_secret = 'nZwv5JjI8Pc5jfZbYujQGZdZ9baZISE4JKQAGtfjYgR4q'\n",
    "\n",
    "auth = twitter.oauth.OAuth(oauth_token, oauth_token_secret, consumer_key, consumer_secret)\n",
    "twitter_api = twitter.Twitter(auth=auth)\n",
    "\n",
    "print (twitter_api)"
   ]
  },
  {
   "cell_type": "markdown",
   "metadata": {},
   "source": [
    "**Step 2** : Create variables to find twitter users location"
   ]
  },
  {
   "cell_type": "code",
   "execution_count": null,
   "metadata": {
    "collapsed": true
   },
   "outputs": [],
   "source": [
    "# We then went on to creating variables to find the twitter users location ID. We did this for the world and for the US.\n",
    "# The Yahoo! Where On Earth ID for the entire world is 1.\n",
    "# See https://dev.twitter.com/docs/api/1.1/get/trends/place and\n",
    "# http://developer.yahoo.com/geo/geoplanet/\n",
    "\n",
    "WORLD_WOE_ID = 1\n",
    "US_WOE_ID = 23424977\n",
    "\n",
    "# Prefix ID with the underscore for query string parameterization.\n",
    "# Without the underscore, the twitter package appends the ID value\n",
    "# to the URL itself as a special case keyword argument.\n",
    "\n",
    "world_trends = twitter_api.trends.place(_id=WORLD_WOE_ID)\n",
    "us_trends = twitter_api.trends.place(_id=US_WOE_ID)\n",
    "\n",
    "print (world_trends)\n",
    "print\n",
    "print (us_trends)"
   ]
  },
  {
   "cell_type": "markdown",
   "metadata": {},
   "source": [
    "**Step 3** : Convert the data using the *json* package"
   ]
  },
  {
   "cell_type": "code",
   "execution_count": null,
   "metadata": {
    "collapsed": true
   },
   "outputs": [],
   "source": [
    "# The next step is to import the package json. JSON (JavaScript Object Notation) is a compact, text based format for computers \n",
    "# to exchange data. \n",
    "import json\n",
    "\n",
    "print (json.dumps(world_trends, indent=1))\n",
    "print\n",
    "print (json.dumps(us_trends, indent=1))"
   ]
  },
  {
   "cell_type": "markdown",
   "metadata": {},
   "source": [
    "**Step 4** : Show common Twitter trends in the US and the World"
   ]
  },
  {
   "cell_type": "code",
   "execution_count": null,
   "metadata": {
    "collapsed": true
   },
   "outputs": [],
   "source": [
    "# We then show the common trends in the US and the World on Twitter\n",
    "world_trends_set = set([trend['name'] \n",
    "                        for trend in world_trends[0]['trends']])\n",
    "\n",
    "us_trends_set = set([trend['name'] \n",
    "                     for trend in us_trends[0]['trends']]) \n",
    "\n",
    "common_trends = world_trends_set.intersection(us_trends_set)\n",
    "\n",
    "print (common_trends)"
   ]
  },
  {
   "cell_type": "markdown",
   "metadata": {},
   "source": [
    "**Step 5** : Focus on the twitter trend *#EgyptAir*"
   ]
  },
  {
   "cell_type": "code",
   "execution_count": null,
   "metadata": {
    "collapsed": true
   },
   "outputs": [],
   "source": [
    "# We can now look for the trending topic, #EgyptAir\n",
    "\n",
    "q = '#EgyptAir' \n",
    "\n",
    "count = 100\n",
    "\n",
    "# See https://dev.twitter.com/docs/api/1.1/get/search/tweets\n",
    "\n",
    "search_results = twitter_api.search.tweets(q=q, count=count)\n",
    "\n",
    "statuses = search_results['statuses']\n",
    "# Iterate through 5 more batches of results by following the cursor\n",
    "\n",
    "for _ in range(5):\n",
    "    print (\"Length of statuses\", len(statuses))\n",
    "    try:\n",
    "        next_results = search_results['search_metadata']['next_results']\n",
    "    except KeyError as e:\n",
    "        break\n",
    "        \n",
    "# Create a dictionary from next_results, which has the following form:\n",
    "# ?max_id=313519052523986943&q=NCAA&include_entities=1\n",
    "    kwargs = dict([ kv.split('=') for kv in next_results[1:].split(\"&\") ])\n",
    "    \n",
    "    search_results = twitter_api.search.tweets(**kwargs)\n",
    "    statuses += search_results['statuses']\n",
    "\n",
    "# Show one sample search result by slicing the list...\n",
    "print (json.dumps(statuses[0], indent=1))"
   ]
  },
  {
   "cell_type": "markdown",
   "metadata": {},
   "source": [
    "**Step 6** : Search for the hashtag *#EgyptAir* in status texts, screennames, and hashtags"
   ]
  },
  {
   "cell_type": "code",
   "execution_count": null,
   "metadata": {
    "collapsed": true
   },
   "outputs": [],
   "source": [
    "status_texts = [ status['text'] \n",
    "                 for status in statuses ]\n",
    "\n",
    "screen_names = [ user_mention['screen_name'] \n",
    "                 for status in statuses\n",
    "                     for user_mention in status['entities']['user_mentions'] ]\n",
    "\n",
    "hashtags = [ hashtag['text'] \n",
    "             for status in statuses\n",
    "                 for hashtag in status['entities']['hashtags'] ]\n",
    "\n",
    "# Compute a collection of all words from all tweets\n",
    "words = [ w \n",
    "          for t in status_texts \n",
    "              for w in t.split() ]\n",
    "\n",
    "# Explore the first 5 items for each...\n",
    "\n",
    "print (json.dumps(status_texts[0:5], indent=1))\n",
    "print (json.dumps(screen_names[0:5], indent=1))\n",
    "print (json.dumps(hashtags[0:5], indent=1))\n",
    "print (json.dumps(words[0:5], indent=1))"
   ]
  },
  {
   "cell_type": "markdown",
   "metadata": {},
   "source": [
    "**Step 7** : Find the frequency of *#EgyptAir* in the Twitter statusses, screennames, and hashtags"
   ]
  },
  {
   "cell_type": "code",
   "execution_count": null,
   "metadata": {
    "collapsed": true
   },
   "outputs": [],
   "source": [
    "# We count the observations of #EgyptAir by doing the following\n",
    "from collections import Counter\n",
    "\n",
    "for item in [words, screen_names, hashtags]:\n",
    "    c = Counter(item)\n",
    "    print (c.most_common()[:10]) # top 10\n",
    "    print"
   ]
  },
  {
   "cell_type": "markdown",
   "metadata": {},
   "source": [
    "**Step 8** : Finally, present the frequencies in a table"
   ]
  },
  {
   "cell_type": "code",
   "execution_count": null,
   "metadata": {
    "collapsed": true
   },
   "outputs": [],
   "source": [
    "from prettytable import PrettyTable\n",
    "\n",
    "for label, data in (('Word', words), \n",
    "                    ('Screen Name', screen_names), \n",
    "                    ('Hashtag', hashtags)):\n",
    "    pt = PrettyTable(field_names=[label, 'Count']) \n",
    "    c = Counter(data)\n",
    "    [ pt.add_row(kv) for kv in c.most_common()[:10] ]\n",
    "    pt.align[label], pt.align['Count'] = 'l', 'r' # Set column alignment\n",
    "    print (pt)"
   ]
  },
  {
   "cell_type": "markdown",
   "metadata": {},
   "source": [
    "# Descriptive Statistics"
   ]
  },
  {
   "cell_type": "markdown",
   "metadata": {},
   "source": [
    "Now that we have been able to find the trending topic #EgyptAir and other related hashtags for different periods of time, we can merge the data into one table. Below you will see a table which includes the top 10 trending hastags within the topic EgyptAir at three different time periods, with corresponding frequencies. *Time 0, Time 1, and Time 2* correspond to Tuesday 29 March at 16.00, 19.00, and 22.00 respectively. On Friday 1 April at 14.00 we anaylsed the data again and called it *Time 3*. Finally, *Time 4* represents the most recent time period on Tuesday 4 April at 18.00, when we did our final analysis. Including these last two varibles will help us check the validity of our estimated models."
   ]
  },
  {
   "cell_type": "code",
   "execution_count": 28,
   "metadata": {
    "collapsed": true
   },
   "outputs": [],
   "source": [
    "# We use the package Pandas to create the tables below\n",
    "import pandas as pd\n",
    "import numpy as np\n",
    "import matplotlib.pyplot as plt\n",
    "pd.set_option('max_columns', 50)\n",
    "%matplotlib inline"
   ]
  },
  {
   "cell_type": "code",
   "execution_count": 29,
   "metadata": {
    "collapsed": false
   },
   "outputs": [
    {
     "data": {
      "text/html": [
       "<div>\n",
       "<table border=\"1\" class=\"dataframe\">\n",
       "  <thead>\n",
       "    <tr style=\"text-align: right;\">\n",
       "      <th></th>\n",
       "      <th>Time 0</th>\n",
       "      <th>Frequency 0</th>\n",
       "      <th>Time 1</th>\n",
       "      <th>Frequency 1</th>\n",
       "      <th>Time 2</th>\n",
       "      <th>Frequency 2</th>\n",
       "      <th>Time 3</th>\n",
       "      <th>Frequency 3</th>\n",
       "      <th>Time 4</th>\n",
       "      <th>Frequency 4</th>\n",
       "    </tr>\n",
       "  </thead>\n",
       "  <tbody>\n",
       "    <tr>\n",
       "      <th>0</th>\n",
       "      <td>EgyptAir</td>\n",
       "      <td>185</td>\n",
       "      <td>EgyptAir</td>\n",
       "      <td>80</td>\n",
       "      <td>EgyptAir</td>\n",
       "      <td>62</td>\n",
       "      <td>EgyptAir</td>\n",
       "      <td>137</td>\n",
       "      <td>EgyptAir</td>\n",
       "      <td>89</td>\n",
       "    </tr>\n",
       "    <tr>\n",
       "      <th>1</th>\n",
       "      <td>Egyptair</td>\n",
       "      <td>14</td>\n",
       "      <td>EgyptAirHijack</td>\n",
       "      <td>5</td>\n",
       "      <td>MS181</td>\n",
       "      <td>2</td>\n",
       "      <td>Selfies</td>\n",
       "      <td>4</td>\n",
       "      <td>TrailerJamShow</td>\n",
       "      <td>14</td>\n",
       "    </tr>\n",
       "    <tr>\n",
       "      <th>2</th>\n",
       "      <td>SelfiesOutOfControl</td>\n",
       "      <td>5</td>\n",
       "      <td>Egypt</td>\n",
       "      <td>3</td>\n",
       "      <td>EgyptAirHijack</td>\n",
       "      <td>2</td>\n",
       "      <td>therepost</td>\n",
       "      <td>4</td>\n",
       "      <td>Egyptair</td>\n",
       "      <td>8</td>\n",
       "    </tr>\n",
       "    <tr>\n",
       "      <th>3</th>\n",
       "      <td>CBC</td>\n",
       "      <td>5</td>\n",
       "      <td>LoveIsInTheAir</td>\n",
       "      <td>2</td>\n",
       "      <td>SriLanka</td>\n",
       "      <td>1</td>\n",
       "      <td>MS181</td>\n",
       "      <td>4</td>\n",
       "      <td>USMNT</td>\n",
       "      <td>1</td>\n",
       "    </tr>\n",
       "    <tr>\n",
       "      <th>4</th>\n",
       "      <td>EgyptAirHijack</td>\n",
       "      <td>5</td>\n",
       "      <td>MS181</td>\n",
       "      <td>2</td>\n",
       "      <td>inspiration</td>\n",
       "      <td>1</td>\n",
       "      <td>Cyprus</td>\n",
       "      <td>3</td>\n",
       "      <td>FirstDates</td>\n",
       "      <td>1</td>\n",
       "    </tr>\n",
       "    <tr>\n",
       "      <th>5</th>\n",
       "      <td>MS181</td>\n",
       "      <td>5</td>\n",
       "      <td>medias</td>\n",
       "      <td>1</td>\n",
       "      <td>TPMP</td>\n",
       "      <td>1</td>\n",
       "      <td>ShayGiven</td>\n",
       "      <td>2</td>\n",
       "      <td>AUSvJOR</td>\n",
       "      <td>1</td>\n",
       "    </tr>\n",
       "    <tr>\n",
       "      <th>6</th>\n",
       "      <td>egyptair</td>\n",
       "      <td>1</td>\n",
       "      <td>HijackedPlane</td>\n",
       "      <td>1</td>\n",
       "      <td>sbbservicescout</td>\n",
       "      <td>1</td>\n",
       "      <td>-</td>\n",
       "      <td>-</td>\n",
       "      <td>-</td>\n",
       "      <td>-</td>\n",
       "    </tr>\n",
       "    <tr>\n",
       "      <th>7</th>\n",
       "      <td>weightloss</td>\n",
       "      <td>1</td>\n",
       "      <td>Cipro</td>\n",
       "      <td>1</td>\n",
       "      <td>AlliAbajo7</td>\n",
       "      <td>1</td>\n",
       "      <td>-</td>\n",
       "      <td>-</td>\n",
       "      <td>-</td>\n",
       "      <td>-</td>\n",
       "    </tr>\n",
       "  </tbody>\n",
       "</table>\n",
       "</div>"
      ],
      "text/plain": [
       "                Time 0  Frequency 0          Time 1  Frequency 1  \\\n",
       "0             EgyptAir          185        EgyptAir           80   \n",
       "1             Egyptair           14  EgyptAirHijack            5   \n",
       "2  SelfiesOutOfControl            5           Egypt            3   \n",
       "3                  CBC            5  LoveIsInTheAir            2   \n",
       "4       EgyptAirHijack            5           MS181            2   \n",
       "5                MS181            5          medias            1   \n",
       "6             egyptair            1   HijackedPlane            1   \n",
       "7           weightloss            1           Cipro            1   \n",
       "\n",
       "            Time 2  Frequency 2     Time 3 Frequency 3          Time 4  \\\n",
       "0         EgyptAir           62   EgyptAir         137        EgyptAir   \n",
       "1            MS181            2    Selfies           4  TrailerJamShow   \n",
       "2   EgyptAirHijack            2  therepost           4        Egyptair   \n",
       "3         SriLanka            1      MS181           4           USMNT   \n",
       "4      inspiration            1     Cyprus           3      FirstDates   \n",
       "5             TPMP            1  ShayGiven           2         AUSvJOR   \n",
       "6  sbbservicescout            1          -           -               -   \n",
       "7       AlliAbajo7            1          -           -               -   \n",
       "\n",
       "  Frequency 4  \n",
       "0          89  \n",
       "1          14  \n",
       "2           8  \n",
       "3           1  \n",
       "4           1  \n",
       "5           1  \n",
       "6           -  \n",
       "7           -  "
      ]
     },
     "execution_count": 29,
     "metadata": {},
     "output_type": "execute_result"
    }
   ],
   "source": [
    "data = {'Time 0': ['EgyptAir', 'Egyptair', 'SelfiesOutOfControl', 'CBC', 'EgyptAirHijack', 'MS181', 'egyptair', 'weightloss'], \n",
    "        'Frequency 0': [185, 14, 5, 5, 5, 5, 1, 1],\n",
    "        'Time 1' : ['EgyptAir', 'EgyptAirHijack', 'Egypt', 'LoveIsInTheAir', 'MS181', 'medias', 'HijackedPlane', 'Cipro'],\n",
    "        'Frequency 1': [80, 5, 3, 2, 2, 1, 1, 1],\n",
    "        'Time 2': ['EgyptAir', 'MS181', 'EgyptAirHijack', 'SriLanka', 'inspiration', 'TPMP', 'sbbservicescout', 'AlliAbajo7'],\n",
    "        'Frequency 2': [62, 2, 2, 1, 1, 1, 1, 1],\n",
    "        'Time 3': ['EgyptAir', 'Selfies', 'therepost', 'MS181', 'Cyprus', 'ShayGiven', '-', '-'], \n",
    "        'Frequency 3': [137, 4, 4, 4, 3, 2, '-', '-'], \n",
    "        'Time 4': ['EgyptAir', 'TrailerJamShow', 'Egyptair', 'USMNT', 'FirstDates', 'AUSvJOR', '-', '-'],\n",
    "        'Frequency 4': [89, 14, 8, 1, 1, 1, '-', '-']}\n",
    "EgyptAirCountTotal = pd.DataFrame(data, columns=['Time 0', 'Frequency 0', 'Time 1', 'Frequency 1', 'Time 2', 'Frequency 2', \n",
    "                                                 'Time 3', 'Frequency 3', 'Time 4', 'Frequency 4']) \n",
    "EgyptAirCountTotal"
   ]
  },
  {
   "cell_type": "markdown",
   "metadata": {},
   "source": [
    "The above table shows the hashtags that are present in all time periods, with their corresponding frequencies in *Time 0, Time 1, and Time 2*."
   ]
  },
  {
   "cell_type": "markdown",
   "metadata": {},
   "source": [
    "### Frequency Tables"
   ]
  },
  {
   "cell_type": "code",
   "execution_count": 30,
   "metadata": {
    "collapsed": false
   },
   "outputs": [
    {
     "data": {
      "text/html": [
       "<div>\n",
       "<table border=\"1\" class=\"dataframe\">\n",
       "  <thead>\n",
       "    <tr style=\"text-align: right;\">\n",
       "      <th></th>\n",
       "      <th>EgyptAir</th>\n",
       "    </tr>\n",
       "  </thead>\n",
       "  <tbody>\n",
       "    <tr>\n",
       "      <th>0</th>\n",
       "      <td>185</td>\n",
       "    </tr>\n",
       "    <tr>\n",
       "      <th>1</th>\n",
       "      <td>80</td>\n",
       "    </tr>\n",
       "    <tr>\n",
       "      <th>2</th>\n",
       "      <td>62</td>\n",
       "    </tr>\n",
       "    <tr>\n",
       "      <th>3</th>\n",
       "      <td>137</td>\n",
       "    </tr>\n",
       "    <tr>\n",
       "      <th>4</th>\n",
       "      <td>89</td>\n",
       "    </tr>\n",
       "  </tbody>\n",
       "</table>\n",
       "</div>"
      ],
      "text/plain": [
       "   EgyptAir\n",
       "0       185\n",
       "1        80\n",
       "2        62\n",
       "3       137\n",
       "4        89"
      ]
     },
     "execution_count": 30,
     "metadata": {},
     "output_type": "execute_result"
    }
   ],
   "source": [
    "# This table shows the frequencies of #EgyptAir from Time 0 to Time 4\n",
    "data = {'EgyptAir': [185, 80, 62, 137, 89]}\n",
    "EgyptAirCountTime = pd.DataFrame(data, columns=['EgyptAir']) \n",
    "EgyptAirCountTime"
   ]
  },
  {
   "cell_type": "code",
   "execution_count": 32,
   "metadata": {
    "collapsed": false
   },
   "outputs": [
    {
     "data": {
      "text/html": [
       "<div>\n",
       "<table border=\"1\" class=\"dataframe\">\n",
       "  <thead>\n",
       "    <tr style=\"text-align: right;\">\n",
       "      <th></th>\n",
       "      <th>EgyptAirHijack</th>\n",
       "    </tr>\n",
       "  </thead>\n",
       "  <tbody>\n",
       "    <tr>\n",
       "      <th>0</th>\n",
       "      <td>5</td>\n",
       "    </tr>\n",
       "    <tr>\n",
       "      <th>1</th>\n",
       "      <td>5</td>\n",
       "    </tr>\n",
       "    <tr>\n",
       "      <th>2</th>\n",
       "      <td>2</td>\n",
       "    </tr>\n",
       "  </tbody>\n",
       "</table>\n",
       "</div>"
      ],
      "text/plain": [
       "   EgyptAirHijack\n",
       "0               5\n",
       "1               5\n",
       "2               2"
      ]
     },
     "execution_count": 32,
     "metadata": {},
     "output_type": "execute_result"
    }
   ],
   "source": [
    "# This table shows the frequencies of #EgyptAirHijack from Time 0 to Time 2\n",
    "data = {'EgyptAirHijack': [5, 5, 2]}\n",
    "EgyptAirHijackCountTime = pd.DataFrame(data, columns=['EgyptAirHijack']) \n",
    "EgyptAirHijackCountTime"
   ]
  },
  {
   "cell_type": "markdown",
   "metadata": {},
   "source": [
    "The graphs below show the declining trend in frequencies for the hashtags **#EgyptAir** and **#EgyptAirHijack**"
   ]
  },
  {
   "cell_type": "code",
   "execution_count": 33,
   "metadata": {
    "collapsed": false
   },
   "outputs": [
    {
     "data": {
      "image/png": "[encoded data removed]",
      "text/plain": [
       "<matplotlib.figure.Figure at 0x254ed5e748>"
      ]
     },
     "metadata": {},
     "output_type": "display_data"
    }
   ],
   "source": [
    "my_plot = EgyptAirCountTime.plot(kind='bar')"
   ]
  },
  {
   "cell_type": "code",
   "execution_count": 34,
   "metadata": {
    "collapsed": false
   },
   "outputs": [
    {
     "data": {
      "image/png": "[encoded data removed]",
      "text/plain": [
       "<matplotlib.figure.Figure at 0x255a6bb2b0>"
      ]
     },
     "metadata": {},
     "output_type": "display_data"
    }
   ],
   "source": [
    "my_plot = EgyptAirCountTime.plot(kind='line')"
   ]
  },
  {
   "cell_type": "code",
   "execution_count": 35,
   "metadata": {
    "collapsed": false
   },
   "outputs": [
    {
     "data": {
      "image/png": "[encoded data removed]",
      "text/plain": [
       "<matplotlib.figure.Figure at 0x255a721fd0>"
      ]
     },
     "metadata": {},
     "output_type": "display_data"
    }
   ],
   "source": [
    "my_plot = EgyptAirHijackCountTime.plot(kind='bar')"
   ]
  },
  {
   "cell_type": "code",
   "execution_count": 36,
   "metadata": {
    "collapsed": false,
    "scrolled": true
   },
   "outputs": [
    {
     "data": {
      "image/png": "[encoded data removed]",
      "text/plain": [
       "<matplotlib.figure.Figure at 0x255a660a90>"
      ]
     },
     "metadata": {},
     "output_type": "display_data"
    }
   ],
   "source": [
    "my_plot = EgyptAirHijackCountTime.plot(kind='line')"
   ]
  },
  {
   "cell_type": "markdown",
   "metadata": {},
   "source": [
    "# MODELS\n",
    "\n",
    "We now need a model which fits our graphs best. We consider using a **linear** or an **exponential** decay function, as shown in the image below. \n",
    "\n",
    "![\"Linear vs Exponential Decay\"](http://www.coilgun.info/theorycapacitors/images/capacitor_expgraph.gif)\n",
    "\n",
    "- **Linear** decay shows a constant declining relationship between two variables. In this case we would see a constant declining relationship between *time* on the x-axis and *frequency* on the y-axis. We employ the following simple linear decay model: $$y = f(x) = a - bx$$ where $α > 0$ and $b > 0$ . A linear function has one independent variable and one dependent variable. The independent variable is x and the dependent variable is y. The constant term or the y-intercept is $a$, and it is the value of the dependent variable when x = 0. The coefficient of the independent variable, $b$, is the slope of the function and gives the constant rate of change of the dependent variable. \n",
    "\n",
    "\n",
    "- **Exponential** decay shows a relative declining relationship between two variables. In this case we would see a relative declining relationship between *time* on the x-axis and *frequency* on the y-axis. Exponential decay models decrease very rapidly, and then level off to become asymptotic towards the x-axis. Once we know the initial value, the rest of the model is fairly easy to complete. In this case the initial value is the frequency at *time 0*. We employ the following simple exponential decay model: $$y = f(x) = ab^{x}$$  where $a > 0$  and $0 < b < 1$ . The variable $a$ is the y-intercept, and $b$ the rate of decline in time x. The rate of decline can take on any value between 0 and 1. The closer the value is to 1, the steeper the rate of decline."
   ]
  },
  {
   "cell_type": "markdown",
   "metadata": {},
   "source": [
    "## ASSUMPTIONS\n",
    "\n",
    "We make the following assumptions and decisions when creating fitting models:\n",
    "- No new information regarding #EgyptAir or the hijacking in general become available after the initial news. This assumption prevents the hashtag to trend again once the decay has started  \n",
    "- Time periods are spaced out equally\n",
    "- The decay will happen within a short period of time, such as a few days"
   ]
  },
  {
   "cell_type": "markdown",
   "metadata": {},
   "source": [
    "# RESULTS\n",
    "\n",
    "From now on we are going to analyse the data from #EgyptAir only since there is far too little data for #EgyptAirHijack. Given the information we have for the first three time periods, we can fill in the linear and exponential models, and compare their predictions with our own findings. We use *Time 0* as the time at *t=0* and therefore as the constant, or intercept. In order to create these two models, we assume the data points in *Time 0, Time 1* and *Time 2* to be true, and use these to create the functions. In a second step, we are going to use our linear and exponential model to predict when the #EgyptAir hashtag will no longer be relevant among Twitter users. \n",
    "\n",
    "### **Linear** \n",
    "\n",
    "Based on the frequency table we created earlier, we are going to construct our linear and exponential decay functions which yield the frequencies for the hashtag #EgyptAir at any given time period. For these functions we use the frequencies in *Time 0* as the intercept value, so $a = 185$. Additionally, we need to calculate the value of $b$, by comparing data from (1) *Time 1* to *Time 0* and (2) from *Time 2* to *Time 0*. Below you will find the calculations for two linear decay functions with different values of $b$.  \n",
    "\n",
    "- we solve the function $y=185-bx$ for $y=80$ and $x=1$ (so at *Time 1*). The following command returns $b=105$. This leads us to our first linear decay function: $$ y_{EgyptAirLinear1} = 185 - 105x $$ \n"
   ]
  },
  {
   "cell_type": "code",
   "execution_count": 1,
   "metadata": {
    "collapsed": false
   },
   "outputs": [
    {
     "data": {
      "text/plain": [
       "[105]"
      ]
     },
     "execution_count": 1,
     "metadata": {},
     "output_type": "execute_result"
    }
   ],
   "source": [
    "from sympy.solvers import solve\n",
    "from sympy import Symbol\n",
    "b = Symbol('b')\n",
    "solve( 185-b-80, b )"
   ]
  },
  {
   "cell_type": "markdown",
   "metadata": {},
   "source": [
    "- we solve the function $y=185-bx$ for $y=62$ and $x=2$. The command below returns $b=61.5$. This leads us to our second linear decay function $$y_{EgyptAirLinear2} = 185 - 61.5x$$. "
   ]
  },
  {
   "cell_type": "code",
   "execution_count": 9,
   "metadata": {
    "collapsed": false
   },
   "outputs": [
    {
     "data": {
      "text/plain": [
       "[123/2]"
      ]
     },
     "execution_count": 9,
     "metadata": {},
     "output_type": "execute_result"
    }
   ],
   "source": [
    "from sympy.solvers import solve\n",
    "from sympy import Symbol\n",
    "b = Symbol('b')\n",
    "solve( 185-62-2*b, b )"
   ]
  },
  {
   "cell_type": "code",
   "execution_count": 3,
   "metadata": {
    "collapsed": false
   },
   "outputs": [
    {
     "data": {
      "text/html": [
       "<div>\n",
       "<table border=\"1\" class=\"dataframe\">\n",
       "  <thead>\n",
       "    <tr style=\"text-align: right;\">\n",
       "      <th></th>\n",
       "      <th>Model</th>\n",
       "      <th>b-value</th>\n",
       "      <th>Function</th>\n",
       "    </tr>\n",
       "  </thead>\n",
       "  <tbody>\n",
       "    <tr>\n",
       "      <th>0</th>\n",
       "      <td>Linear1</td>\n",
       "      <td>105.0</td>\n",
       "      <td>y=185-105x</td>\n",
       "    </tr>\n",
       "    <tr>\n",
       "      <th>1</th>\n",
       "      <td>Linear2</td>\n",
       "      <td>61.5</td>\n",
       "      <td>y=185-61.5x</td>\n",
       "    </tr>\n",
       "  </tbody>\n",
       "</table>\n",
       "</div>"
      ],
      "text/plain": [
       "     Model  b-value     Function\n",
       "0  Linear1    105.0   y=185-105x\n",
       "1  Linear2     61.5  y=185-61.5x"
      ]
     },
     "execution_count": 3,
     "metadata": {},
     "output_type": "execute_result"
    }
   ],
   "source": [
    "# We use the package Pandas to create the tables below\n",
    "import pandas as pd\n",
    "import numpy as np\n",
    "import matplotlib.pyplot as plt\n",
    "pd.set_option('max_columns', 50)\n",
    "%matplotlib inline\n",
    "\n",
    "data = {'Model': ['Linear1', 'Linear2'],\n",
    "        'b-value': [105, 61.5], \n",
    "        'Function': ['y=185-105x', 'y=185-61.5x']}\n",
    "LinearModels = pd.DataFrame(data, columns=['Model', 'b-value', 'Function']) \n",
    "LinearModels"
   ]
  },
  {
   "cell_type": "markdown",
   "metadata": {},
   "source": [
    "The graph below shows us the actual frequency of hashtags (*EgyptAirActual*), as well as the first and second attempt for linear models (*EgyptAirLinear1* and *EgyptAirLinear2*)"
   ]
  },
  {
   "cell_type": "code",
   "execution_count": 1,
   "metadata": {
    "collapsed": false
   },
   "outputs": [
    {
     "name": "stdout",
     "output_type": "stream",
     "text": [
      "High five! You successfuly sent some data to your account on plotly. View your plot in your browser at https://plot.ly/~ninabartmann/0 or inside your plot.ly account where it is named 'styled-line'\n"
     ]
    },
    {
     "data": {
      "text/html": [
       "<iframe id=\"igraph\" scrolling=\"no\" style=\"border:none;\" seamless=\"seamless\" src=\"https://plot.ly/~ninabartmann/0.embed\" height=\"525px\" width=\"100%\"></iframe>"
      ],
      "text/plain": [
       "<plotly.tools.PlotlyDisplay object>"
      ]
     },
     "execution_count": 1,
     "metadata": {},
     "output_type": "execute_result"
    }
   ],
   "source": [
    "import plotly.plotly as py\n",
    "py.sign_in('ninabartmann', 'm2ua1wueft')\n",
    "import plotly.graph_objs as go\n",
    "\n",
    "# Add data\n",
    "Time = ['Time 0', 'Time 1', 'Time 2', 'Time 3', 'Time 4']\n",
    "EgyptAirActual = [185, 80, 62, 137, 89]\n",
    "EgyptAirLinear1 = [185, 123.5, 62.5, 0.5, -61]\n",
    "EgyptAirLinear2 = [185, 80, -25, -130, -235]\n",
    "\n",
    "# Create and style traces\n",
    "Time0 = go.Scatter(\n",
    "    x = Time,\n",
    "    y = EgyptAirActual,\n",
    "    name = 'EgyptAirActual',\n",
    "    line = dict(\n",
    "        color = ('rgb(20, 120, 24)'),\n",
    "        width = 4)\n",
    ")\n",
    "Time1 = go.Scatter(\n",
    "    x = Time,\n",
    "    y = EgyptAirLinear1,\n",
    "    name = 'EgyptAirLinear1',\n",
    "    line = dict(\n",
    "        color = ('rgb(22, 96, 167)'),\n",
    "        width = 4,)\n",
    ")\n",
    "Time2 = go.Scatter(\n",
    "    x = Time,\n",
    "    y = EgyptAirLinear2,\n",
    "    name = 'EgyptAirLinear2',\n",
    "    line = dict(\n",
    "        color = ('rgb(205, 12, 24)'),\n",
    "        width = 4,)\n",
    ")\n",
    "\n",
    "data = [Time0, Time1, Time2]\n",
    "\n",
    "# Edit the layout\n",
    "layout = dict(title = 'EgyptAirModels',\n",
    "              xaxis = dict(title = 'Time'),\n",
    "              yaxis = dict(title = 'Frequency'),\n",
    "              )\n",
    "\n",
    "# Plot and embed in ipython notebook!\n",
    "fig = dict(data=data, layout=layout)\n",
    "py.iplot(fig, filename='styled-line')"
   ]
  },
  {
   "cell_type": "markdown",
   "metadata": {},
   "source": [
    "### **Exponential** \n",
    "\n",
    "Based on the frequency table we created earlier, we are going to construct our exponential decay function for the hashtag #EgyptAir which will model the decay of frequencies exponentially. For this function we use the intercept of $a = 185$ again. The value of b can take on many different values. We are interested in the predictions of the exponential decay model when the function $y=ab^x$ takes on the following values for $b$: 0.1, 0,2, 0.3, 0.4, 0.5, 0.6, 0.7, 0.8, 0.9, and 1. The following command returns the corresponding $y$-values. One of the functions could then look something like this: $$ y_{EgyptAir} = 185*0.7^x $$"
   ]
  },
  {
   "cell_type": "code",
   "execution_count": 23,
   "metadata": {
    "collapsed": false
   },
   "outputs": [
    {
     "data": {
      "text/plain": [
       "[185.000000000000]"
      ]
     },
     "execution_count": 23,
     "metadata": {},
     "output_type": "execute_result"
    }
   ],
   "source": [
    "y = Symbol('y')\n",
    "solve( y-185*0.1**0, y )"
   ]
  },
  {
   "cell_type": "code",
   "execution_count": 24,
   "metadata": {
    "collapsed": false
   },
   "outputs": [
    {
     "data": {
      "text/plain": [
       "[18.5000000000000]"
      ]
     },
     "execution_count": 24,
     "metadata": {},
     "output_type": "execute_result"
    }
   ],
   "source": [
    "y = Symbol('y')\n",
    "solve( y-185*0.1**1, y )"
   ]
  },
  {
   "cell_type": "code",
   "execution_count": 25,
   "metadata": {
    "collapsed": false
   },
   "outputs": [
    {
     "data": {
      "text/plain": [
       "[37.0000000000000]"
      ]
     },
     "execution_count": 25,
     "metadata": {},
     "output_type": "execute_result"
    }
   ],
   "source": [
    "y = Symbol('y')\n",
    "solve( y-185*0.2**1, y )"
   ]
  },
  {
   "cell_type": "code",
   "execution_count": 26,
   "metadata": {
    "collapsed": false
   },
   "outputs": [
    {
     "data": {
      "text/plain": [
       "[55.5000000000000]"
      ]
     },
     "execution_count": 26,
     "metadata": {},
     "output_type": "execute_result"
    }
   ],
   "source": [
    "y = Symbol('y')\n",
    "solve( y-185*0.3**1, y )"
   ]
  },
  {
   "cell_type": "markdown",
   "metadata": {},
   "source": [
    "We can continue doing this for all values of $b$ and $x$. To save space we have summarized the results in the following table. The columns show the possible values for b and the rows indicates the possible time values. The values shown in the table are the *y-values* that correspond to the *b-values* at *Time 0, Time 1, Time 2*. "
   ]
  },
  {
   "cell_type": "code",
   "execution_count": 4,
   "metadata": {
    "collapsed": false
   },
   "outputs": [
    {
     "data": {
      "text/html": [
       "<div>\n",
       "<table border=\"1\" class=\"dataframe\">\n",
       "  <thead>\n",
       "    <tr style=\"text-align: right;\">\n",
       "      <th></th>\n",
       "      <th>b=0.1</th>\n",
       "      <th>b=0.2</th>\n",
       "      <th>b=0.3</th>\n",
       "      <th>b=0.4</th>\n",
       "      <th>b=0.5</th>\n",
       "      <th>b=0.6</th>\n",
       "      <th>b=0.7</th>\n",
       "      <th>b=0.8</th>\n",
       "      <th>b=0.9</th>\n",
       "      <th>b=1</th>\n",
       "    </tr>\n",
       "  </thead>\n",
       "  <tbody>\n",
       "    <tr>\n",
       "      <th>0</th>\n",
       "      <td>185.00</td>\n",
       "      <td>185.0</td>\n",
       "      <td>185.00</td>\n",
       "      <td>185.0</td>\n",
       "      <td>185.0</td>\n",
       "      <td>185.0</td>\n",
       "      <td>185.00</td>\n",
       "      <td>185.0</td>\n",
       "      <td>185.00</td>\n",
       "      <td>185</td>\n",
       "    </tr>\n",
       "    <tr>\n",
       "      <th>1</th>\n",
       "      <td>18.50</td>\n",
       "      <td>37.0</td>\n",
       "      <td>55.50</td>\n",
       "      <td>74.0</td>\n",
       "      <td>92.5</td>\n",
       "      <td>111.0</td>\n",
       "      <td>129.50</td>\n",
       "      <td>148.0</td>\n",
       "      <td>166.50</td>\n",
       "      <td>185</td>\n",
       "    </tr>\n",
       "    <tr>\n",
       "      <th>2</th>\n",
       "      <td>1.85</td>\n",
       "      <td>7.4</td>\n",
       "      <td>16.65</td>\n",
       "      <td>29.6</td>\n",
       "      <td>46.5</td>\n",
       "      <td>66.6</td>\n",
       "      <td>90.65</td>\n",
       "      <td>118.4</td>\n",
       "      <td>149.05</td>\n",
       "      <td>185</td>\n",
       "    </tr>\n",
       "  </tbody>\n",
       "</table>\n",
       "</div>"
      ],
      "text/plain": [
       "    b=0.1  b=0.2   b=0.3  b=0.4  b=0.5  b=0.6   b=0.7  b=0.8   b=0.9  b=1\n",
       "0  185.00  185.0  185.00  185.0  185.0  185.0  185.00  185.0  185.00  185\n",
       "1   18.50   37.0   55.50   74.0   92.5  111.0  129.50  148.0  166.50  185\n",
       "2    1.85    7.4   16.65   29.6   46.5   66.6   90.65  118.4  149.05  185"
      ]
     },
     "execution_count": 4,
     "metadata": {},
     "output_type": "execute_result"
    }
   ],
   "source": [
    "data = {'b=0.1': [185, 18.5, 1.85],\n",
    "        'b=0.2': [185, 37, 7.4],\n",
    "        'b=0.3': [185, 55.5, 16.65],\n",
    "        'b=0.4': [185, 74, 29.6], \n",
    "        'b=0.5': [185, 92.5, 46.5],\n",
    "        'b=0.6': [185, 111, 66.6],\n",
    "        'b=0.7': [185, 129.5, 90.65],\n",
    "        'b=0.8': [185, 148, 118.4], \n",
    "        'b=0.9': [185, 166.5, 149.05],\n",
    "        'b=1': [185, 185, 185]}\n",
    "EgyptAirCountModel = pd.DataFrame(data, columns=['b=0.1', 'b=0.2', 'b=0.3', 'b=0.4', 'b=0.5', 'b=0.6', 'b=0.7', 'b=0.8', 'b=0.9', 'b=1']) \n",
    "EgyptAirCountModel"
   ]
  },
  {
   "cell_type": "markdown",
   "metadata": {},
   "source": [
    "We will now use these values to calculate the 10 exponential functions, with varying *b-values*, and plot them into a graph. "
   ]
  },
  {
   "cell_type": "code",
   "execution_count": 1,
   "metadata": {
    "collapsed": false
   },
   "outputs": [
    {
     "name": "stdout",
     "output_type": "stream",
     "text": [
      "High five! You successfuly sent some data to your account on plotly. View your plot in your browser at https://plot.ly/~JoelleDuff/0 or inside your plot.ly account where it is named 'styled-line'\n"
     ]
    },
    {
     "data": {
      "text/html": [
       "<iframe id=\"igraph\" scrolling=\"no\" style=\"border:none;\" seamless=\"seamless\" src=\"https://plot.ly/~JoelleDuff/0.embed\" height=\"525px\" width=\"100%\"></iframe>"
      ],
      "text/plain": [
       "<plotly.tools.PlotlyDisplay object>"
      ]
     },
     "execution_count": 1,
     "metadata": {},
     "output_type": "execute_result"
    }
   ],
   "source": [
    "import plotly.plotly as py\n",
    "py.sign_in('JoelleDuff', '2nzyc71ezu')\n",
    "import plotly.graph_objs as go\n",
    "\n",
    "# Add data\n",
    "Time = ['Time 0', 'Time 1', 'Time 2']\n",
    "BAc = [185, 80, 62]\n",
    "B01 = [185, 18.5, 1.85]\n",
    "B02 = [185, 37, 7.4]\n",
    "B03 = [185, 55.5, 16.65]\n",
    "B04 = [185, 74, 29.6]\n",
    "B05 = [185, 92.5, 46.5]\n",
    "B06 = [185, 111, 66.6]\n",
    "B07 = [185, 129.5, 90.65]\n",
    "B08 = [185, 148, 118.4]\n",
    "B09 = [185, 166.5, 149.05]\n",
    "B1 = [185, 185, 185]\n",
    "\n",
    "\n",
    "# Create and style traces\n",
    "TimeAc = go.Scatter(\n",
    "    x = Time,\n",
    "    y = BAc,\n",
    "    name = 'Actual',\n",
    "    line = dict(\n",
    "        color = ('rgb(20, 20, 24)'),\n",
    "        width = 4)\n",
    ")\n",
    "\n",
    "Time01 = go.Scatter(\n",
    "    x = Time,\n",
    "    y = B01,\n",
    "    name = 'B=0.1',\n",
    "    line = dict(\n",
    "        color = ('rgb(22, 96, 167)'),\n",
    "        width = 4,\n",
    "        dash = 'dash')\n",
    ")\n",
    "Time02 = go.Scatter(\n",
    "    x = Time,\n",
    "    y = B02,\n",
    "    name = 'B=0.2',\n",
    "    line = dict(\n",
    "        color = ('rgb(22, 96, 167)'),\n",
    "        width = 4,\n",
    "        dash = 'dash')\n",
    ")\n",
    "Time03 = go.Scatter(\n",
    "    x = Time,\n",
    "    y = B03,\n",
    "    name = 'B=0.3',\n",
    "    line = dict(\n",
    "        color = ('rgb(22, 96, 167)'),\n",
    "        width = 4,\n",
    "        dash = 'dash')\n",
    ")\n",
    "\n",
    "Time04 = go.Scatter(\n",
    "    x = Time,\n",
    "    y = B04,\n",
    "    name = 'B=0.4',\n",
    "    line = dict(\n",
    "        color = ('rgb(22, 96, 167)'),\n",
    "        width = 4,\n",
    "        dash = 'dash')\n",
    ")\n",
    "Time05 = go.Scatter(\n",
    "    x = Time,\n",
    "    y = B05,\n",
    "    name = 'B=0.5',\n",
    "    line = dict(\n",
    "        color = ('rgb(22, 96, 167)'),\n",
    "        width = 4,\n",
    "        dash = 'dash')\n",
    ")\n",
    "Time06 = go.Scatter(\n",
    "    x = Time,\n",
    "    y = B06,\n",
    "    name = 'B=0.6',\n",
    "    line = dict(\n",
    "        color = ('rgb(22, 96, 167)'),\n",
    "        width = 4,\n",
    "        dash = 'dash')\n",
    ")\n",
    "Time07 = go.Scatter(\n",
    "    x = Time,\n",
    "    y = B07,\n",
    "    name = 'B=0.7',\n",
    "    line = dict(\n",
    "        color = ('rgb(22, 96, 167)'),\n",
    "        width = 4,\n",
    "        dash = 'dash')\n",
    ")\n",
    "Time08 = go.Scatter(\n",
    "    x = Time,\n",
    "    y = B08,\n",
    "    name = 'B=0.8',\n",
    "    line = dict(\n",
    "        color = ('rgb(22, 96, 167)'),\n",
    "        width = 4,\n",
    "        dash = 'dash')\n",
    ")\n",
    "Time09 = go.Scatter(\n",
    "    x = Time,\n",
    "    y = B09,\n",
    "    name = 'B=0.9',\n",
    "    line = dict(\n",
    "        color = ('rgb(22, 96, 167)'),\n",
    "        width = 4,\n",
    "        dash = 'dash')\n",
    ")\n",
    "Time1 = go.Scatter(\n",
    "    x = Time,\n",
    "    y = B1,\n",
    "    name = 'B=1',\n",
    "    line = dict(\n",
    "        color = ('rgb(22, 96, 167)'),\n",
    "        width = 4,\n",
    "        dash = 'dash')\n",
    ")\n",
    "\n",
    "    \n",
    "data = [TimeAc, Time01, Time02, Time03, Time04, Time05, Time06, Time07, Time08, Time09, Time1]\n",
    "\n",
    "# Edit the layout\n",
    "layout = dict(title = 'EgyptAir Exponential Models',\n",
    "              xaxis = dict(title = 'Time'),\n",
    "              yaxis = dict(title = 'Frequency'),\n",
    "              )\n",
    "\n",
    "# Plot and embed in ipython notebook!\n",
    "fig = dict(data=data, layout=layout)\n",
    "py.iplot(fig, filename='styled-line')"
   ]
  },
  {
   "cell_type": "markdown",
   "metadata": {
    "collapsed": false
   },
   "source": [
    "# Predictions: Exponential Model\n",
    "As can be seen from the graph above, the exponential decay funcation seems to fit best with a value for b near 0.5 or 0.6. We will therefore use the following functions:\n",
    "\n",
    "$$ y = 185*0.5^x$$ and $$ y = 185*0.6^x$$\n",
    "\n",
    "Using these functions we will now attempt to predict when the trend will cease to exist, so when the frequencies are 0. Because we are looking at exponential functions, we cannot set $y = 0$ to find the intercept. Instead, we will set $y = 0.0000001$ and solve both functions for this value."
   ]
  },
  {
   "cell_type": "code",
   "execution_count": 40,
   "metadata": {
    "collapsed": false
   },
   "outputs": [
    {
     "data": {
      "text/plain": [
       "[30.7848781247278]"
      ]
     },
     "execution_count": 40,
     "metadata": {},
     "output_type": "execute_result"
    }
   ],
   "source": [
    "x = Symbol('x')\n",
    "solve( 185*0.5**x-0.0000001, x )"
   ]
  },
  {
   "cell_type": "code",
   "execution_count": 41,
   "metadata": {
    "collapsed": false
   },
   "outputs": [
    {
     "data": {
      "text/plain": [
       "[41.7724767186146]"
      ]
     },
     "execution_count": 41,
     "metadata": {},
     "output_type": "execute_result"
    }
   ],
   "source": [
    "x = Symbol('x')\n",
    "solve( 185*0.6**x-0.0000001, x )"
   ]
  },
  {
   "cell_type": "markdown",
   "metadata": {},
   "source": [
    "For the values of b equal to 0.5 and 0.6, we find $y = 30.78$ and $y = 41.77$ respectively. This indicates that the trend would cease to exist at time 31 and 42 respectively. Since one unit of time counts for 3 hours, and *Time 0* is at 14.00 on March 29 2016, this means that *Time 31* and *Time 42* are on **April 2 11.00** and **April 3 20.00** respectively.\n",
    "\n",
    "These predictions can be seen in the graph below where the blue line represents: $ y = 185*0.5^x$ and the red line represents: $ y = 185*0.6^x$\n",
    "The vertical lines represent *Time 31* and *Time 42* respectively at which $y = 0.0000001$ and the trend will cease to exist. "
   ]
  },
  {
   "cell_type": "code",
   "execution_count": 89,
   "metadata": {
    "collapsed": false
   },
   "outputs": [
    {
     "data": {
      "text/plain": [
       "<matplotlib.lines.Line2D at 0x1217119d0>"
      ]
     },
     "execution_count": 89,
     "metadata": {},
     "output_type": "execute_result"
    },
    {
     "data": {
      "image/png": "[encoded data removed]",
      "text/plain": [
       "<matplotlib.figure.Figure at 0x121c12450>"
      ]
     },
     "metadata": {},
     "output_type": "display_data"
    }
   ],
   "source": [
    "from scipy import optimize, arange\n",
    "from numpy import array\n",
    "import matplotlib.pyplot as plt\n",
    "%matplotlib inline\n",
    "\n",
    "plt.figure(figsize=(25,10))\n",
    "x = np.arange(25, 46, 1);\n",
    "y = (185*(0.5**(x)))\n",
    "z = (185*(0.6**(x)))\n",
    "plt.plot(x, y, linewidth = 3)\n",
    "plt.plot(x, z, color = 'r', linewidth = 3)\n",
    "plt.title(\"Exponential Decay Model\", fontsize = 40)\n",
    "plt.xlabel(\"Time\", fontsize = 40)\n",
    "plt.ylabel(\"Frequency\", fontsize = 40)\n",
    "plt.axvline(31,color='b', linewidth = 3)\n",
    "plt.axvline(42,color='r', linewidth = 3)"
   ]
  },
  {
   "cell_type": "markdown",
   "metadata": {
    "collapsed": false
   },
   "source": [
    "# Predictions: Linear Model\n",
    "Based on our earlier calculations, we found two linear decay functions: \n",
    "The first linear decay function is: $$ y_{EgyptAirLinear1} = 185 - 105x $$\n",
    "The second linear decay function is: $$y_{EgyptAirLinear2} = 185 - 61.5x$$ \n",
    "Using these functions, we will now attempt to predict when the trend in #EgyptAir will cease to exist, so when the frequencies are 0. We will set $y = 0$ to find the value for $x$, the time. \n"
   ]
  },
  {
   "cell_type": "code",
   "execution_count": 10,
   "metadata": {
    "collapsed": false
   },
   "outputs": [
    {
     "data": {
      "text/plain": [
       "[37/21]"
      ]
     },
     "execution_count": 10,
     "metadata": {},
     "output_type": "execute_result"
    }
   ],
   "source": [
    "x = Symbol('x')\n",
    "solve (185 - 105*x, x)"
   ]
  },
  {
   "cell_type": "code",
   "execution_count": 11,
   "metadata": {
    "collapsed": false
   },
   "outputs": [
    {
     "data": {
      "text/plain": [
       "[3.00813008130081]"
      ]
     },
     "execution_count": 11,
     "metadata": {},
     "output_type": "execute_result"
    }
   ],
   "source": [
    "x = Symbol ('x')\n",
    "solve (185 - 61.5*x, x)"
   ]
  },
  {
   "cell_type": "markdown",
   "metadata": {},
   "source": [
    "For the first linear decay function, we find that at time $x = 1.76, y =0$. For the second linear decay function, we find that at time $x = 3, y = 0$. This indicates that the trend would cease to exist at time 1.76 and 3 respectively. Again, since one unit of time counts for 3 hours, and *Time 0* is at 14.00 on March 29 2016, *Time 1.76* and *Time 3* are on **March 29 19.15** and **March 29 23.00** respectively.   "
   ]
  },
  {
   "cell_type": "markdown",
   "metadata": {},
   "source": [
    "# CONCLUSION\n",
    "In order to answer the research question as to how long it will take before the Twitter trend in #EgyptAir will cease to exist, we have looked at two different models: a linear decay model and an exponential decay model. \n",
    "\n",
    "The linear decay model predicts that the hashtag will cease to exist in the evening of March 29, the same day of the hijacking. The exponential decay model predicts that the hashtag will either cease to exist on April 2 at 11.00 or on April 3 at 20.00. \n",
    "\n",
    "Given our main [assumption](#ASSUMPTIONS), we conclude that our exponential decay model gives the most reliable results. Even though modern society tends towards shorter attention spands, we do not expect that disaster events will only be relevent to Social Media for a few hours. A span of several days seems much more plausible. \n"
   ]
  },
  {
   "cell_type": "markdown",
   "metadata": {},
   "source": [
    "# Discussion\n",
    "We are now going to shortly elaborate on our findings and discuss some elements on which we needed additional information.\n",
    "\n",
    "First, we would like to explain our data set. Mining data from Twitter turned out to be more difficult than anticipated. This difficulty is not only related to the amount of data one can mine, but also to the frequency at which we would have liked to have data. Our current data points are spaced out equally by 3 hours. To effectively model the decay trend however, it would have been useful to have frequency data that is less spaced out, such as every half hour. \n",
    "\n",
    "Second, to keep the analysis simple, we decided not to allow the hashtag #EgyptAir to re-trend. This is a major assumption which simplifies our analysis, but does not necessarily correspond to real-life events. Based on this assumption, our model might not be directly applicable to current Twitter trends. In fact, if you look at the frequency table created earlier, you see a jump in frequencies at *Time 4*, before gradually declining again. However, we feel that our analysis has given us some important insight as to how quickly Twitter trends can decay and made us more aware of the limited attention span that current society exhibits.  "
   ]
  },
  {
   "cell_type": "code",
   "execution_count": null,
   "metadata": {
    "collapsed": true
   },
   "outputs": [],
   "source": []
  }
 ],
 "metadata": {
  "kernelspec": {
   "display_name": "Python 2",
   "language": "python",
   "name": "python2"
  },
  "language_info": {
   "codemirror_mode": {
    "name": "ipython",
    "version": 2
   },
   "file_extension": ".py",
   "mimetype": "text/x-python",
   "name": "python",
   "nbconvert_exporter": "python",
   "pygments_lexer": "ipython2",
   "version": "2.7.11"
  }
 },
 "nbformat": 4,
 "nbformat_minor": 0
}
