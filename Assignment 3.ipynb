{
 "cells": [
  {
   "cell_type": "markdown",
   "metadata": {},
   "source": [
    "## Assignment 3\n",
    "# Twitter Trend Decy - An analysis of the declining trend of #EgyptAir"
   ]
  },
  {
   "cell_type": "markdown",
   "metadata": {},
   "source": [
    "### Nina Bartmann (517260)    \n",
    "### Joelle Duff (361872)    \n",
    "### Irene Laureijs (508695)  "
   ]
  },
  {
   "cell_type": "markdown",
   "metadata": {},
   "source": [
    "![alt text](https://marketing-insider.eu/wp-content/uploads/2015/08/Using-Social-Media-in-Marketing.jpg)"
   ]
  },
  {
   "cell_type": "markdown",
   "metadata": {},
   "source": [
    "# RESEARCH QUESTION\n",
    "<br> How long does it take for the Twitter trend #EgyptAir to disappear?\n",
    "\n",
    "# MOTIVATION & INTRODUCTION\n",
    "<br> Social Media – a phenomenon of the 21st century. To some it is a red flag, but to most it represents an opportunity to engage in communication and to exchange information. Social media platforms include the social network [Facebook](https://en.wikipedia.org/wiki/Facebook), the video-sharing website [YouTube](https://www.youtube.com), the networking service [LinkedIn](https://en.wikipedia.org/wiki/LinkedIn), the mobile photo-sharing service [Instagram](https://www.instagram.com) or the microblogging service Twitter. Social media enables participants of its services or networks to simultaneously be producer, distributor and consumer of information. This means that users of social media engage in a flow of information on a scale and at a speed that were previously not possible. \n",
    "\n",
    "Within seconds of their occurrence, many news events become extremely popular among social media participants. This is especially visible in relation to disaster news, such as the terror attacks in Paris and [Brussels](http://www.bbc.com/news/blogs-trending-35872170). The intense media coverage right after the attacks captured our interest. People around the world shared their views and expressed solidarity with the victims and their families. \n",
    "\n",
    "Given the constant flow of information, social media participants are likely to exhibit a limited attention span towards a single topic and are more prone to the symptom of “Quick News”. Hence, we are interested as to how quickly trends in social media can disappear again.\n",
    "\n",
    "We will investigate and predict how long it will take for the trend in the Twitter hash tag #EgyptAir to disappear. The hash tag refers to an Egypt Air flight, which was hijacked on March 29, 2016 and forced to divert to Cyprus instead of Cairo International Airport. \n",
    "\n",
    "## What is Twitter? ![alt text](http://www.cambridgema.gov/images/twitter-icon.png)\n",
    "<br> Twitter is an online microblogging service, which enables users to send and read short 140-character messages called “tweets”. Each user chooses to follow certain other users and their “tweets” about news, personal information or links to content such as images, video or articles. Has tags “#” are used to group posts together by a certain topic. “As of May 2915, Twitter has more than 500 million users, out of which more than 332 million are active.” (see: <https://en.wikipedia.org/wiki/Twitter>)"
   ]
  },
  {
   "cell_type": "markdown",
   "metadata": {
    "collapsed": true
   },
   "source": [
    "## METHOD\n",
    "\n",
    "*Twitter data mining and resulting data points* \n",
    "\n",
    "For this assignment we were able to mine [data](# IMPORTING DATA) from Twitter at several points in time. We found the trend #EgyptAir to be trending that day, so we analysed the frequency of mentioning this hash tag (and similar ones) at multiple time periods. Furthermore, we predicted the decay in the frequency of the hash tah #EgyptAir by employing a [**linear**](# MODELS) as well as an [**exponential**](# MODELS) decay model."
   ]
  },
  {
   "cell_type": "markdown",
   "metadata": {},
   "source": [
    "## PRELIMINARY ANSWERS \n",
    "Our [conclusion](#CONCLUSION) is that ... Assuming that ..., the answer to our research question is ..."
   ]
  },
  {
   "cell_type": "markdown",
   "metadata": {},
   "source": [
    "# IMPORTING DATA\n",
    "The following steps were taken to get the data we needed from Twitter:"
   ]
  },
  {
   "cell_type": "markdown",
   "metadata": {},
   "source": [
    "**Step 1**: Import the real-time data from Twitter"
   ]
  },
  {
   "cell_type": "code",
   "execution_count": null,
   "metadata": {
    "collapsed": true
   },
   "outputs": [],
   "source": [
    "# This command tells python to import data from Twitter, using the package twitter and our personal token codes. \n",
    "import twitter\n",
    "\n",
    "consumer_key = 'qwciG2GP5XcIu66v2xjW1HMzX'\n",
    "consumer_secret = '8Bzy3ve28bErN3YTvCMdeiKSJsTF49Vo6I0SZIUoKorbMCUzsx'\n",
    "oauth_token = '2456869753-S4bVmPGl7rhunfPMClCCCHpKgBUQFUbdU4fxrBP'\n",
    "oauth_token_secret = 'nZwv5JjI8Pc5jfZbYujQGZdZ9baZISE4JKQAGtfjYgR4q'\n",
    "\n",
    "auth = twitter.oauth.OAuth(oauth_token, oauth_token_secret, consumer_key, consumer_secret)\n",
    "twitter_api = twitter.Twitter(auth=auth)\n",
    "\n",
    "print (twitter_api)"
   ]
  },
  {
   "cell_type": "markdown",
   "metadata": {},
   "source": [
    "**Step 2** : Create variables to find twitter users location"
   ]
  },
  {
   "cell_type": "code",
   "execution_count": null,
   "metadata": {
    "collapsed": true
   },
   "outputs": [],
   "source": [
    "# We then went on to creating variables to find the twitter users location ID. We did this for the world and for the US.\n",
    "# The Yahoo! Where On Earth ID for the entire world is 1.\n",
    "# See https://dev.twitter.com/docs/api/1.1/get/trends/place and\n",
    "# http://developer.yahoo.com/geo/geoplanet/\n",
    "\n",
    "WORLD_WOE_ID = 1\n",
    "US_WOE_ID = 23424977\n",
    "\n",
    "# Prefix ID with the underscore for query string parameterization.\n",
    "# Without the underscore, the twitter package appends the ID value\n",
    "# to the URL itself as a special case keyword argument.\n",
    "\n",
    "world_trends = twitter_api.trends.place(_id=WORLD_WOE_ID)\n",
    "us_trends = twitter_api.trends.place(_id=US_WOE_ID)\n",
    "\n",
    "print (world_trends)\n",
    "print\n",
    "print (us_trends)"
   ]
  },
  {
   "cell_type": "markdown",
   "metadata": {},
   "source": [
    "**Step 3** : Convert the data using the *json* package"
   ]
  },
  {
   "cell_type": "code",
   "execution_count": null,
   "metadata": {
    "collapsed": true
   },
   "outputs": [],
   "source": [
    "# The next step is to import the package json. JSON (JavaScript Object Notation) is a compact, text based format for computers \n",
    "# to exchange data. \n",
    "import json\n",
    "\n",
    "print (json.dumps(world_trends, indent=1))\n",
    "print\n",
    "print (json.dumps(us_trends, indent=1))"
   ]
  },
  {
   "cell_type": "markdown",
   "metadata": {},
   "source": [
    "**Step 4** : Show common Twitter trends in the US and the World"
   ]
  },
  {
   "cell_type": "code",
   "execution_count": null,
   "metadata": {
    "collapsed": true
   },
   "outputs": [],
   "source": [
    "# We then show the common trends in the US and the World on Twitter\n",
    "world_trends_set = set([trend['name'] \n",
    "                        for trend in world_trends[0]['trends']])\n",
    "\n",
    "us_trends_set = set([trend['name'] \n",
    "                     for trend in us_trends[0]['trends']]) \n",
    "\n",
    "common_trends = world_trends_set.intersection(us_trends_set)\n",
    "\n",
    "print (common_trends)"
   ]
  },
  {
   "cell_type": "markdown",
   "metadata": {},
   "source": [
    "**Step 5** : Focus on the twitter trend *#EgyptAir*"
   ]
  },
  {
   "cell_type": "code",
   "execution_count": null,
   "metadata": {
    "collapsed": true
   },
   "outputs": [],
   "source": [
    "# We can now look for the trending topic, #EgyptAir\n",
    "\n",
    "q = '#EgyptAir' \n",
    "\n",
    "count = 100\n",
    "\n",
    "# See https://dev.twitter.com/docs/api/1.1/get/search/tweets\n",
    "\n",
    "search_results = twitter_api.search.tweets(q=q, count=count)\n",
    "\n",
    "statuses = search_results['statuses']\n",
    "# Iterate through 5 more batches of results by following the cursor\n",
    "\n",
    "for _ in range(5):\n",
    "    print (\"Length of statuses\", len(statuses))\n",
    "    try:\n",
    "        next_results = search_results['search_metadata']['next_results']\n",
    "    except KeyError as e:\n",
    "        break\n",
    "        \n",
    "# Create a dictionary from next_results, which has the following form:\n",
    "# ?max_id=313519052523986943&q=NCAA&include_entities=1\n",
    "    kwargs = dict([ kv.split('=') for kv in next_results[1:].split(\"&\") ])\n",
    "    \n",
    "    search_results = twitter_api.search.tweets(**kwargs)\n",
    "    statuses += search_results['statuses']\n",
    "\n",
    "# Show one sample search result by slicing the list...\n",
    "print (json.dumps(statuses[0], indent=1))"
   ]
  },
  {
   "cell_type": "markdown",
   "metadata": {},
   "source": [
    "**Step 6** : Search for the hashtag *#EgyptAir* in status texts, screennames, and hashtags"
   ]
  },
  {
   "cell_type": "code",
   "execution_count": null,
   "metadata": {
    "collapsed": true
   },
   "outputs": [],
   "source": [
    "status_texts = [ status['text'] \n",
    "                 for status in statuses ]\n",
    "\n",
    "screen_names = [ user_mention['screen_name'] \n",
    "                 for status in statuses\n",
    "                     for user_mention in status['entities']['user_mentions'] ]\n",
    "\n",
    "hashtags = [ hashtag['text'] \n",
    "             for status in statuses\n",
    "                 for hashtag in status['entities']['hashtags'] ]\n",
    "\n",
    "# Compute a collection of all words from all tweets\n",
    "words = [ w \n",
    "          for t in status_texts \n",
    "              for w in t.split() ]\n",
    "\n",
    "# Explore the first 5 items for each...\n",
    "\n",
    "print (json.dumps(status_texts[0:5], indent=1))\n",
    "print (json.dumps(screen_names[0:5], indent=1))\n",
    "print (json.dumps(hashtags[0:5], indent=1))\n",
    "print (json.dumps(words[0:5], indent=1))"
   ]
  },
  {
   "cell_type": "markdown",
   "metadata": {},
   "source": [
    "**Step 7** : Find the frequency of *#EgyptAir* in the Twitter statusses, screennames, and hashtags"
   ]
  },
  {
   "cell_type": "code",
   "execution_count": null,
   "metadata": {
    "collapsed": true
   },
   "outputs": [],
   "source": [
    "# We count the observations of #EgyptAir by doing the following\n",
    "from collections import Counter\n",
    "\n",
    "for item in [words, screen_names, hashtags]:\n",
    "    c = Counter(item)\n",
    "    print (c.most_common()[:10]) # top 10\n",
    "    print"
   ]
  },
  {
   "cell_type": "markdown",
   "metadata": {},
   "source": [
    "**Step 8** : Finally, present the frequencies in a table"
   ]
  },
  {
   "cell_type": "code",
   "execution_count": null,
   "metadata": {
    "collapsed": true
   },
   "outputs": [],
   "source": [
    "from prettytable import PrettyTable\n",
    "\n",
    "for label, data in (('Word', words), \n",
    "                    ('Screen Name', screen_names), \n",
    "                    ('Hashtag', hashtags)):\n",
    "    pt = PrettyTable(field_names=[label, 'Count']) \n",
    "    c = Counter(data)\n",
    "    [ pt.add_row(kv) for kv in c.most_common()[:10] ]\n",
    "    pt.align[label], pt.align['Count'] = 'l', 'r' # Set column alignment\n",
    "    print (pt)"
   ]
  },
  {
   "cell_type": "markdown",
   "metadata": {},
   "source": [
    "Now that we have been able to find the trending topic #EgyptAir and other related hashtags for different periods of time, we can merge the data into one table. Below you will see a table which includes the top 10 trending hastags within the topic EgyptAir, at three different time periods. *Time 0, Time 1, and Time 2* correspond to Tuesday 29 March at 16.00, 19.00, and 23.00 respectively. On Friday 1 April, at 14.00 we anaylsed the data again, and called it *Time 3*. Finally, *Time 4* represents the most recent time period on Tuesday 4 April at 18.00, when we did our final analysis. Including these last two varibles will help us check the validity of our estimated models."
   ]
  },
  {
   "cell_type": "code",
   "execution_count": 28,
   "metadata": {
    "collapsed": true
   },
   "outputs": [],
   "source": [
    "# We use the package Pandas to create the tables below\n",
    "import pandas as pd\n",
    "import numpy as np\n",
    "import matplotlib.pyplot as plt\n",
    "pd.set_option('max_columns', 50)\n",
    "%matplotlib inline"
   ]
  },
  {
   "cell_type": "code",
   "execution_count": 29,
   "metadata": {
    "collapsed": false
   },
   "outputs": [
    {
     "data": {
      "text/html": [
       "<div>\n",
       "<table border=\"1\" class=\"dataframe\">\n",
       "  <thead>\n",
       "    <tr style=\"text-align: right;\">\n",
       "      <th></th>\n",
       "      <th>Time 0</th>\n",
       "      <th>Frequency 0</th>\n",
       "      <th>Time 1</th>\n",
       "      <th>Frequency 1</th>\n",
       "      <th>Time 2</th>\n",
       "      <th>Frequency 2</th>\n",
       "      <th>Time 3</th>\n",
       "      <th>Frequency 3</th>\n",
       "      <th>Time 4</th>\n",
       "      <th>Frequency 4</th>\n",
       "    </tr>\n",
       "  </thead>\n",
       "  <tbody>\n",
       "    <tr>\n",
       "      <th>0</th>\n",
       "      <td>EgyptAir</td>\n",
       "      <td>185</td>\n",
       "      <td>EgyptAir</td>\n",
       "      <td>80</td>\n",
       "      <td>EgyptAir</td>\n",
       "      <td>62</td>\n",
       "      <td>EgyptAir</td>\n",
       "      <td>137</td>\n",
       "      <td>EgyptAir</td>\n",
       "      <td>89</td>\n",
       "    </tr>\n",
       "    <tr>\n",
       "      <th>1</th>\n",
       "      <td>Egyptair</td>\n",
       "      <td>14</td>\n",
       "      <td>EgyptAirHijack</td>\n",
       "      <td>5</td>\n",
       "      <td>MS181</td>\n",
       "      <td>2</td>\n",
       "      <td>Selfies</td>\n",
       "      <td>4</td>\n",
       "      <td>TrailerJamShow</td>\n",
       "      <td>14</td>\n",
       "    </tr>\n",
       "    <tr>\n",
       "      <th>2</th>\n",
       "      <td>SelfiesOutOfControl</td>\n",
       "      <td>5</td>\n",
       "      <td>Egypt</td>\n",
       "      <td>3</td>\n",
       "      <td>EgyptAirHijack</td>\n",
       "      <td>2</td>\n",
       "      <td>therepost</td>\n",
       "      <td>4</td>\n",
       "      <td>Egyptair</td>\n",
       "      <td>8</td>\n",
       "    </tr>\n",
       "    <tr>\n",
       "      <th>3</th>\n",
       "      <td>CBC</td>\n",
       "      <td>5</td>\n",
       "      <td>LoveIsInTheAir</td>\n",
       "      <td>2</td>\n",
       "      <td>SriLanka</td>\n",
       "      <td>1</td>\n",
       "      <td>MS181</td>\n",
       "      <td>4</td>\n",
       "      <td>USMNT</td>\n",
       "      <td>1</td>\n",
       "    </tr>\n",
       "    <tr>\n",
       "      <th>4</th>\n",
       "      <td>EgyptAirHijack</td>\n",
       "      <td>5</td>\n",
       "      <td>MS181</td>\n",
       "      <td>2</td>\n",
       "      <td>inspiration</td>\n",
       "      <td>1</td>\n",
       "      <td>Cyprus</td>\n",
       "      <td>3</td>\n",
       "      <td>FirstDates</td>\n",
       "      <td>1</td>\n",
       "    </tr>\n",
       "    <tr>\n",
       "      <th>5</th>\n",
       "      <td>MS181</td>\n",
       "      <td>5</td>\n",
       "      <td>medias</td>\n",
       "      <td>1</td>\n",
       "      <td>TPMP</td>\n",
       "      <td>1</td>\n",
       "      <td>ShayGiven</td>\n",
       "      <td>2</td>\n",
       "      <td>AUSvJOR</td>\n",
       "      <td>1</td>\n",
       "    </tr>\n",
       "    <tr>\n",
       "      <th>6</th>\n",
       "      <td>egyptair</td>\n",
       "      <td>1</td>\n",
       "      <td>HijackedPlane</td>\n",
       "      <td>1</td>\n",
       "      <td>sbbservicescout</td>\n",
       "      <td>1</td>\n",
       "      <td>-</td>\n",
       "      <td>-</td>\n",
       "      <td>-</td>\n",
       "      <td>-</td>\n",
       "    </tr>\n",
       "    <tr>\n",
       "      <th>7</th>\n",
       "      <td>weightloss</td>\n",
       "      <td>1</td>\n",
       "      <td>Cipro</td>\n",
       "      <td>1</td>\n",
       "      <td>AlliAbajo7</td>\n",
       "      <td>1</td>\n",
       "      <td>-</td>\n",
       "      <td>-</td>\n",
       "      <td>-</td>\n",
       "      <td>-</td>\n",
       "    </tr>\n",
       "  </tbody>\n",
       "</table>\n",
       "</div>"
      ],
      "text/plain": [
       "                Time 0  Frequency 0          Time 1  Frequency 1  \\\n",
       "0             EgyptAir          185        EgyptAir           80   \n",
       "1             Egyptair           14  EgyptAirHijack            5   \n",
       "2  SelfiesOutOfControl            5           Egypt            3   \n",
       "3                  CBC            5  LoveIsInTheAir            2   \n",
       "4       EgyptAirHijack            5           MS181            2   \n",
       "5                MS181            5          medias            1   \n",
       "6             egyptair            1   HijackedPlane            1   \n",
       "7           weightloss            1           Cipro            1   \n",
       "\n",
       "            Time 2  Frequency 2     Time 3 Frequency 3          Time 4  \\\n",
       "0         EgyptAir           62   EgyptAir         137        EgyptAir   \n",
       "1            MS181            2    Selfies           4  TrailerJamShow   \n",
       "2   EgyptAirHijack            2  therepost           4        Egyptair   \n",
       "3         SriLanka            1      MS181           4           USMNT   \n",
       "4      inspiration            1     Cyprus           3      FirstDates   \n",
       "5             TPMP            1  ShayGiven           2         AUSvJOR   \n",
       "6  sbbservicescout            1          -           -               -   \n",
       "7       AlliAbajo7            1          -           -               -   \n",
       "\n",
       "  Frequency 4  \n",
       "0          89  \n",
       "1          14  \n",
       "2           8  \n",
       "3           1  \n",
       "4           1  \n",
       "5           1  \n",
       "6           -  \n",
       "7           -  "
      ]
     },
     "execution_count": 29,
     "metadata": {},
     "output_type": "execute_result"
    }
   ],
   "source": [
    "data = {'Time 0': ['EgyptAir', 'Egyptair', 'SelfiesOutOfControl', 'CBC', 'EgyptAirHijack', 'MS181', 'egyptair', 'weightloss'], \n",
    "        'Frequency 0': [185, 14, 5, 5, 5, 5, 1, 1],\n",
    "        'Time 1' : ['EgyptAir', 'EgyptAirHijack', 'Egypt', 'LoveIsInTheAir', 'MS181', 'medias', 'HijackedPlane', 'Cipro'],\n",
    "        'Frequency 1': [80, 5, 3, 2, 2, 1, 1, 1],\n",
    "        'Time 2': ['EgyptAir', 'MS181', 'EgyptAirHijack', 'SriLanka', 'inspiration', 'TPMP', 'sbbservicescout', 'AlliAbajo7'],\n",
    "        'Frequency 2': [62, 2, 2, 1, 1, 1, 1, 1],\n",
    "        'Time 3': ['EgyptAir', 'Selfies', 'therepost', 'MS181', 'Cyprus', 'ShayGiven', '-', '-'], \n",
    "        'Frequency 3': [137, 4, 4, 4, 3, 2, '-', '-'], \n",
    "        'Time 4': ['EgyptAir', 'TrailerJamShow', 'Egyptair', 'USMNT', 'FirstDates', 'AUSvJOR', '-', '-'],\n",
    "        'Frequency 4': [89, 14, 8, 1, 1, 1, '-', '-']}\n",
    "EgyptAirCountTotal = pd.DataFrame(data, columns=['Time 0', 'Frequency 0', 'Time 1', 'Frequency 1', 'Time 2', 'Frequency 2', \n",
    "                                                 'Time 3', 'Frequency 3', 'Time 4', 'Frequency 4']) \n",
    "EgyptAirCountTotal"
   ]
  },
  {
   "cell_type": "markdown",
   "metadata": {},
   "source": [
    "The following table shows the hashtags that are present in all time periods, with their corresponding frequencies in *Time 0, Time 1, and Time 2*."
   ]
  },
  {
   "cell_type": "code",
   "execution_count": 30,
   "metadata": {
    "collapsed": false
   },
   "outputs": [
    {
     "data": {
      "text/html": [
       "<div>\n",
       "<table border=\"1\" class=\"dataframe\">\n",
       "  <thead>\n",
       "    <tr style=\"text-align: right;\">\n",
       "      <th></th>\n",
       "      <th>EgyptAir</th>\n",
       "    </tr>\n",
       "  </thead>\n",
       "  <tbody>\n",
       "    <tr>\n",
       "      <th>0</th>\n",
       "      <td>185</td>\n",
       "    </tr>\n",
       "    <tr>\n",
       "      <th>1</th>\n",
       "      <td>80</td>\n",
       "    </tr>\n",
       "    <tr>\n",
       "      <th>2</th>\n",
       "      <td>62</td>\n",
       "    </tr>\n",
       "    <tr>\n",
       "      <th>3</th>\n",
       "      <td>137</td>\n",
       "    </tr>\n",
       "    <tr>\n",
       "      <th>4</th>\n",
       "      <td>89</td>\n",
       "    </tr>\n",
       "  </tbody>\n",
       "</table>\n",
       "</div>"
      ],
      "text/plain": [
       "   EgyptAir\n",
       "0       185\n",
       "1        80\n",
       "2        62\n",
       "3       137\n",
       "4        89"
      ]
     },
     "execution_count": 30,
     "metadata": {},
     "output_type": "execute_result"
    }
   ],
   "source": [
    "# This table shows the frequencies of #EgyptAir from Time 0 to Time 4\n",
    "data = {'EgyptAir': [185, 80, 62, 137, 89]}\n",
    "EgyptAirCountTime = pd.DataFrame(data, columns=['EgyptAir']) \n",
    "EgyptAirCountTime"
   ]
  },
  {
   "cell_type": "code",
   "execution_count": 32,
   "metadata": {
    "collapsed": false
   },
   "outputs": [
    {
     "data": {
      "text/html": [
       "<div>\n",
       "<table border=\"1\" class=\"dataframe\">\n",
       "  <thead>\n",
       "    <tr style=\"text-align: right;\">\n",
       "      <th></th>\n",
       "      <th>EgyptAirHijack</th>\n",
       "    </tr>\n",
       "  </thead>\n",
       "  <tbody>\n",
       "    <tr>\n",
       "      <th>0</th>\n",
       "      <td>5</td>\n",
       "    </tr>\n",
       "    <tr>\n",
       "      <th>1</th>\n",
       "      <td>5</td>\n",
       "    </tr>\n",
       "    <tr>\n",
       "      <th>2</th>\n",
       "      <td>2</td>\n",
       "    </tr>\n",
       "  </tbody>\n",
       "</table>\n",
       "</div>"
      ],
      "text/plain": [
       "   EgyptAirHijack\n",
       "0               5\n",
       "1               5\n",
       "2               2"
      ]
     },
     "execution_count": 32,
     "metadata": {},
     "output_type": "execute_result"
    }
   ],
   "source": [
    "# This table shows the frequencies of #EgyptAirHijack from Time 0 to Time 2\n",
    "data = {'EgyptAirHijack': [5, 5, 2]}\n",
    "EgyptAirHijackCountTime = pd.DataFrame(data, columns=['EgyptAirHijack']) \n",
    "EgyptAirHijackCountTime"
   ]
  },
  {
   "cell_type": "markdown",
   "metadata": {},
   "source": [
    "The graphs below show the declining trend in frequencies for the hashtags **#EgyptAir** and **#EgyptAirHijack**"
   ]
  },
  {
   "cell_type": "code",
   "execution_count": 33,
   "metadata": {
    "collapsed": false
   },
   "outputs": [
    {
     "data": {
      "image/png": "[encoded data removed]",
      "text/plain": [
       "<matplotlib.figure.Figure at 0x254ed5e748>"
      ]
     },
     "metadata": {},
     "output_type": "display_data"
    }
   ],
   "source": [
    "my_plot = EgyptAirCountTime.plot(kind='bar')"
   ]
  },
  {
   "cell_type": "code",
   "execution_count": 34,
   "metadata": {
    "collapsed": false
   },
   "outputs": [
    {
     "data": {
      "image/png": "[encoded data removed]",
      "text/plain": [
       "<matplotlib.figure.Figure at 0x255a6bb2b0>"
      ]
     },
     "metadata": {},
     "output_type": "display_data"
    }
   ],
   "source": [
    "my_plot = EgyptAirCountTime.plot(kind='line')"
   ]
  },
  {
   "cell_type": "code",
   "execution_count": 35,
   "metadata": {
    "collapsed": false
   },
   "outputs": [
    {
     "data": {
      "image/png": "[encoded data removed]",
      "text/plain": [
       "<matplotlib.figure.Figure at 0x255a721fd0>"
      ]
     },
     "metadata": {},
     "output_type": "display_data"
    }
   ],
   "source": [
    "my_plot = EgyptAirHijackCountTime.plot(kind='bar')"
   ]
  },
  {
   "cell_type": "code",
   "execution_count": 36,
   "metadata": {
    "collapsed": false
   },
   "outputs": [
    {
     "data": {
      "image/png": "[encoded data removed]",
      "text/plain": [
       "<matplotlib.figure.Figure at 0x255a660a90>"
      ]
     },
     "metadata": {},
     "output_type": "display_data"
    }
   ],
   "source": [
    "my_plot = EgyptAirHijackCountTime.plot(kind='line')"
   ]
  },
  {
   "cell_type": "markdown",
   "metadata": {},
   "source": [
    "# MODELS\n",
    "\n",
    "We now want to find a model which fits our graph best. We consider using a **linear** or an **exponential** decay function, as shown in the image below. \n",
    "\n",
    "![\"Linear vs Exponential Decay\"](exp_linear.jpg)\n",
    "\n",
    "- **Linear** decay shows a constant declining relationship between two variables. In this case we would see a constant declining relationship between *time* on the x-axis and *frequency* on the y-axis. The function for the linear decay model $$y = f(x) = a - bx$$  may be used as as simple declining model where $α < 0$ . A linear function has one independent variable and one dependent variable. The independent variable is x and the dependent variable is y. The constant term or the y-intercept is $a$, and it is the value of the dependent variable when x = 0. The coefficient of the independent variable, $b$ , is the slope of the function and gives the constant rate of change of the dependent variable. \n",
    "\n",
    "\n",
    "- **Exponential** decay shows a relative declining relationship between two variables. In this case we would see a relative declining relationship between *time* on the x-axis and *frequency* on the y-axis. Exponential decay models decrease very rapidly, and then level off to become asymptotic towards the x-axis. If you know the initial value then the rest of the model is fairly easy to complete. In this case the initial value is the amount of frequencies at *time 0*. The function for the exponential decay model is $$y = f(x) = ab^{x}$$  where $a > 0$  and $0 < b < 1$ . The variable $a$ is the y-intercept, and $b$ will be the rate of decline, in time x (where x = 0,1,2,3,4). Different values are available for the rate of decline, as long as they are between 0 and 1. The closer the value is to 1, the steeper the rate of decline.  \n",
    "\n",
    "\n",
    "https://people.richland.edu/james/lecture/m116/logs/models.html\n",
    "\n",
    "http://www.math.utah.edu/~jasonu/1030/Files/Chap8.pdf\n",
    "\n",
    "http://www.regentsprep.org/regents/math/algebra/ae7/expdecayl.htm\n"
   ]
  },
  {
   "cell_type": "markdown",
   "metadata": {},
   "source": [
    "# ASSUMPTIONS\n",
    "\n",
    "We made the following assumptions and decisions when creating fitting models:\n",
    "- There are no new information regarding #EgyptAir available which could make the hash tag trend again at a later point in time \n",
    "- Time periods are space out equally\n",
    "- The decay will happen within a short period of time, such as a few days"
   ]
  },
  {
   "cell_type": "markdown",
   "metadata": {},
   "source": [
    "# RESULTS\n",
    "\n",
    "Given the information we have for the three time periods, we can fill in the linear and exponential functions, and compare these with our own findings. We use *Time 0* as the time at *t=0* and therefore as the constant, or intercept. \n",
    "\n",
    "- **Linear** Based on the the two tables we made earlier, we can create functions which give us the frequencies for both #EgyptAir and #EgyptAirHijack. The following two functions represent this linear relationship and were calculated based on the results from *Time 0* and *Time 2* \n",
    "$$ y_{EgyptAir} = 185 - 61.5x $$ \n",
    "$$ y_{EgyptAirHijack} = 5 - 1.5x$$\n",
    "\n",
    "- **Exponential** Also based on the two tables we made earlier, we were able to create exponential functions for both #EgyptAir and #EgyptAirHijack. The following functions represent this exponentional relationship and were calculated on the basis of..\n",
    "$$ y_{EgyptAir} = 185*0.75^x $$\n",
    "$$ y_{EgyptAirHijack} = 5*0.8^x $$"
   ]
  },
  {
   "cell_type": "code",
   "execution_count": 43,
   "metadata": {
    "collapsed": false
   },
   "outputs": [
    {
     "data": {
      "text/html": [
       "<div>\n",
       "<table border=\"1\" class=\"dataframe\">\n",
       "  <thead>\n",
       "    <tr style=\"text-align: right;\">\n",
       "      <th></th>\n",
       "      <th>EgyptAir</th>\n",
       "      <th>a</th>\n",
       "      <th>b</th>\n",
       "    </tr>\n",
       "  </thead>\n",
       "  <tbody>\n",
       "    <tr>\n",
       "      <th>0</th>\n",
       "      <td>Linear</td>\n",
       "      <td>185</td>\n",
       "      <td>61.50</td>\n",
       "    </tr>\n",
       "    <tr>\n",
       "      <th>1</th>\n",
       "      <td>Exponential</td>\n",
       "      <td>185</td>\n",
       "      <td>0.75</td>\n",
       "    </tr>\n",
       "  </tbody>\n",
       "</table>\n",
       "</div>"
      ],
      "text/plain": [
       "      EgyptAir    a      b\n",
       "0       Linear  185  61.50\n",
       "1  Exponential  185   0.75"
      ]
     },
     "execution_count": 43,
     "metadata": {},
     "output_type": "execute_result"
    }
   ],
   "source": [
    "# The following table shows the values for a and b for both models. Other values for b are possible too.....\n",
    "\n",
    "data = {'EgyptAir': ['Linear', 'Exponential'],\n",
    "        'a': [185, 185],\n",
    "        'b': [61.5, 0.75]}\n",
    "EgyptAirCountModel = pd.DataFrame(data, columns=['EgyptAir', 'a', 'b']) \n",
    "EgyptAirCountModel"
   ]
  },
  {
   "cell_type": "code",
   "execution_count": 44,
   "metadata": {
    "collapsed": false
   },
   "outputs": [
    {
     "data": {
      "text/html": [
       "<div>\n",
       "<table border=\"1\" class=\"dataframe\">\n",
       "  <thead>\n",
       "    <tr style=\"text-align: right;\">\n",
       "      <th></th>\n",
       "      <th>EgyptAirHijack</th>\n",
       "      <th>a</th>\n",
       "      <th>b</th>\n",
       "    </tr>\n",
       "  </thead>\n",
       "  <tbody>\n",
       "    <tr>\n",
       "      <th>0</th>\n",
       "      <td>Linear</td>\n",
       "      <td>5</td>\n",
       "      <td>1.5</td>\n",
       "    </tr>\n",
       "    <tr>\n",
       "      <th>1</th>\n",
       "      <td>Exponential</td>\n",
       "      <td>5</td>\n",
       "      <td>0.8</td>\n",
       "    </tr>\n",
       "  </tbody>\n",
       "</table>\n",
       "</div>"
      ],
      "text/plain": [
       "  EgyptAirHijack  a    b\n",
       "0         Linear  5  1.5\n",
       "1    Exponential  5  0.8"
      ]
     },
     "execution_count": 44,
     "metadata": {},
     "output_type": "execute_result"
    }
   ],
   "source": [
    "data = {'EgyptAirHijack': ['Linear', 'Exponential'],\n",
    "        'a': [5, 5],\n",
    "        'b': [1.5, 0.8]}\n",
    "EgyptAirHijackCountModel = pd.DataFrame(data, columns=['EgyptAirHijack', 'a', 'b']) \n",
    "EgyptAirHijackCountModel"
   ]
  },
  {
   "cell_type": "code",
   "execution_count": 90,
   "metadata": {
    "collapsed": false
   },
   "outputs": [
    {
     "data": {
      "image/png": "[encoded data removed]",
      "text/plain": [
       "<matplotlib.figure.Figure at 0x255c2a2630>"
      ]
     },
     "metadata": {},
     "output_type": "display_data"
    }
   ],
   "source": [
    "import matplotlib.pyplot as plt\n",
    "plt.plot([0,1,2,10,20], [185,80,62,137,89], '--', color='c')\n",
    "plt.plot([0,1,2,10,20], [185,123.5,62,0,0], '--', color='b')\n",
    "plt.plot([0,1,2,10,20], [185,138.75,104.06,10.42,0.587], '--', color='r')\n",
    "plt.plot([0,1,2,10,20], [185,111,66.6,1.12,0.068], '--', color='g')\n",
    "plt.ylabel('Frequency')\n",
    "plt.axis([0, 20, 0, 200])\n",
    "plt.show()"
   ]
  },
  {
   "cell_type": "code",
   "execution_count": 68,
   "metadata": {
    "collapsed": false
   },
   "outputs": [
    {
     "data": {
      "text/plain": [
       "<matplotlib.text.Text at 0x255bf97e48>"
      ]
     },
     "execution_count": 68,
     "metadata": {},
     "output_type": "execute_result"
    },
    {
     "data": {
      "image/png": "[encoded data removed]",
      "text/plain": [
       "<matplotlib.figure.Figure at 0x255bf38668>"
      ]
     },
     "metadata": {},
     "output_type": "display_data"
    }
   ],
   "source": [
    "import matplotlib.pyplot as plt\n",
    "plt.figure(1)                # the first figure\n",
    "plt.subplot(211)             # the first subplot in the first figure\n",
    "plt.plot([0,1,2,3,4], [185,80,62,137,89])\n",
    "plt.title('#EgyptAir')\n",
    "plt.ylabel('Frequency')\n",
    "plt.xlabel('Time')\n",
    "\n",
    "plt.subplot(212)             # the second subplot in the first figure\n",
    "plt.plot([0,1,2], [5,5,2])\n",
    "plt.title('#EgyptAirHijack')\n",
    "plt.ylabel('Frequency')\n",
    "plt.xlabel('Time')"
   ]
  },
  {
   "cell_type": "markdown",
   "metadata": {},
   "source": [
    "# LIMITATIONS\n",
    "- We don't have enough data to make credible predictions about the development of #EgyptAir\n",
    "- Our model does not allow for sudden peaks once the decay has started. This means, we assume that the trend is steadily declining"
   ]
  },
  {
   "cell_type": "markdown",
   "metadata": {},
   "source": [
    "# CONCLUSION"
   ]
  }
 ],
 "metadata": {
  "kernelspec": {
   "display_name": "Python 2",
   "language": "python",
   "name": "python2"
  },
  "language_info": {
   "codemirror_mode": {
    "name": "ipython",
    "version": 2
   },
   "file_extension": ".py",
   "mimetype": "text/x-python",
   "name": "python",
   "nbconvert_exporter": "python",
   "pygments_lexer": "ipython2",
   "version": "2.7.11"
  }
 },
 "nbformat": 4,
 "nbformat_minor": 0
}
